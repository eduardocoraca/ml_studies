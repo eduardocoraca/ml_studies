{
  "nbformat": 4,
  "nbformat_minor": 0,
  "metadata": {
    "colab": {
      "name": "study_keras.ipynb",
      "provenance": [],
      "authorship_tag": "ABX9TyOhjeGtAlOR7KRmnt4epJnt",
      "include_colab_link": true
    },
    "kernelspec": {
      "name": "python3",
      "display_name": "Python 3"
    }
  },
  "cells": [
    {
      "cell_type": "markdown",
      "metadata": {
        "id": "view-in-github",
        "colab_type": "text"
      },
      "source": [
        "<a href=\"https://colab.research.google.com/github/eduardocoraca/ml_studies/blob/master/study_keras.ipynb\" target=\"_parent\"><img src=\"https://colab.research.google.com/assets/colab-badge.svg\" alt=\"Open In Colab\"/></a>"
      ]
    },
    {
      "cell_type": "markdown",
      "metadata": {
        "id": "hkflENj02P5p",
        "colab_type": "text"
      },
      "source": [
        "Study session with comments, based on [deeplizard](https://www.youtube.com/playlist?list=PLZbbT5o_s2xrwRnXk_yCPtnqqo4_u2YGL)'s material.\n",
        "\n",
        "*Eduardo Moraes Coraça, May/2020*"
      ]
    },
    {
      "cell_type": "markdown",
      "metadata": {
        "id": "_UY1A04r2KAv",
        "colab_type": "text"
      },
      "source": [
        "# **1) Preprocessing data for training**"
      ]
    },
    {
      "cell_type": "markdown",
      "metadata": {
        "id": "AbbubtdBYV7G",
        "colab_type": "text"
      },
      "source": [
        "Numpy arrays are needed for Keras training."
      ]
    },
    {
      "cell_type": "code",
      "metadata": {
        "id": "ERCc7YFI2qLy",
        "colab_type": "code",
        "colab": {}
      },
      "source": [
        "import numpy as np\n",
        "from random import randint\n",
        "from sklearn.preprocessing import MinMaxScaler"
      ],
      "execution_count": null,
      "outputs": []
    },
    {
      "cell_type": "code",
      "metadata": {
        "id": "pRCNzehyZakq",
        "colab_type": "code",
        "colab": {}
      },
      "source": [
        "# Empty lists\n",
        "train_labels = []\n",
        "train_samples = []"
      ],
      "execution_count": null,
      "outputs": []
    },
    {
      "cell_type": "markdown",
      "metadata": {
        "id": "UgkVI31iZtMu",
        "colab_type": "text"
      },
      "source": [
        "## Generating the example data:\n",
        "\n",
        "*   An experimental drug was tested on individuals from ages 13 to 100;\n",
        "*   The trial had 2100 participants. Half were under 65 years old, half wer over 65 years old;\n",
        "*   95% of patients 65 or older experienced side effects;\n",
        "*   95% of patiantes under 65 experienced no side effects.\n",
        "\n",
        "**Model**: estimate if there will be a side effect or not.\n",
        "\n"
      ]
    },
    {
      "cell_type": "code",
      "metadata": {
        "id": "Aiyv4ZtZZqov",
        "colab_type": "code",
        "colab": {}
      },
      "source": [
        "for i in range(1000):\n",
        "  random_younger = randint(13,64)\n",
        "  train_samples.append(random_younger)\n",
        "  train_labels.append(0)\n",
        "\n",
        "  random_older = randint(65,100)\n",
        "  train_samples.append(random_older)\n",
        "  train_labels.append(1)\n",
        "\n",
        "for i in range(50):\n",
        "  random_younger = randint(13,64)\n",
        "  train_samples.append(random_younger)\n",
        "  train_labels.append(0)\n",
        "\n",
        "  random_older = randint(65,100)\n",
        "  train_samples.append(random_older)\n",
        "  train_labels.append(1)"
      ],
      "execution_count": null,
      "outputs": []
    },
    {
      "cell_type": "markdown",
      "metadata": {
        "id": "e-P0eYBUbPYw",
        "colab_type": "text"
      },
      "source": [
        "Converting do Numpy arrays:"
      ]
    },
    {
      "cell_type": "code",
      "metadata": {
        "id": "VEWtHZC1brTv",
        "colab_type": "code",
        "colab": {}
      },
      "source": [
        "train_labels = np.array(train_labels)\n",
        "train_samples = np.array(train_samples)"
      ],
      "execution_count": null,
      "outputs": []
    },
    {
      "cell_type": "markdown",
      "metadata": {
        "id": "6EdHwPkdb40L",
        "colab_type": "text"
      },
      "source": [
        "## Scaling:\n",
        "We need to scale the data to use in Keras. Interval: [0,1]."
      ]
    },
    {
      "cell_type": "code",
      "metadata": {
        "id": "h7XunG7WbzGc",
        "colab_type": "code",
        "colab": {}
      },
      "source": [
        "scaler = MinMaxScaler(feature_range=(0,1))\n",
        "scaled_train_samples = scaler.fit_transform(train_samples.reshape(-1,1))\n",
        "# .reshape is needed in order to convert the dimension of the Numpy array"
      ],
      "execution_count": null,
      "outputs": []
    },
    {
      "cell_type": "markdown",
      "metadata": {
        "id": "DLdlDpN8pENF",
        "colab_type": "text"
      },
      "source": [
        "# **2) Creating a model in Keras**"
      ]
    },
    {
      "cell_type": "code",
      "metadata": {
        "id": "hHLUDJ7zpFp0",
        "colab_type": "code",
        "colab": {
          "base_uri": "https://localhost:8080/",
          "height": 34
        },
        "outputId": "2a5cefde-1049-44c2-90b4-dcfdbc50aff8"
      },
      "source": [
        "import keras\n",
        "from keras import backend as K\n",
        "from keras.models import Sequential\n",
        "from keras.layers import Activation\n",
        "from keras.layers.core import Dense\n",
        "from keras.optimizers import Adam\n",
        "from keras.metrics import categorical_crossentropy"
      ],
      "execution_count": null,
      "outputs": [
        {
          "output_type": "stream",
          "text": [
            "Using TensorFlow backend.\n"
          ],
          "name": "stderr"
        }
      ]
    },
    {
      "cell_type": "markdown",
      "metadata": {
        "id": "hU8kynJiy4R6",
        "colab_type": "text"
      },
      "source": [
        "**Sequential Model**: linear stack of layers. The first layers must know the input shape. Argument: list of layers:\n",
        "```\n",
        "model = Sequential([l1, l2, l3])\n",
        "```\n",
        "It is also possible to add layers through:\n",
        "```\n",
        "model.add(l4)\n",
        "```\n",
        "*Dense*: creates a NN layer."
      ]
    },
    {
      "cell_type": "code",
      "metadata": {
        "id": "u_awzipryuSH",
        "colab_type": "code",
        "colab": {}
      },
      "source": [
        "model = Sequential([\n",
        "    Dense(16, input_shape=(1,), activation ='relu'), # input layer\n",
        "    Dense(32, activation='relu'),\n",
        "    Dense(2, activation='softmax') # output layer\n",
        "])"
      ],
      "execution_count": null,
      "outputs": []
    },
    {
      "cell_type": "code",
      "metadata": {
        "id": "gR7f-Vq41--D",
        "colab_type": "code",
        "colab": {
          "base_uri": "https://localhost:8080/",
          "height": 252
        },
        "outputId": "c7195c3a-08f2-498e-c27b-b50645c5d821"
      },
      "source": [
        "model.summary()"
      ],
      "execution_count": null,
      "outputs": [
        {
          "output_type": "stream",
          "text": [
            "Model: \"sequential_1\"\n",
            "_________________________________________________________________\n",
            "Layer (type)                 Output Shape              Param #   \n",
            "=================================================================\n",
            "dense_1 (Dense)              (None, 16)                32        \n",
            "_________________________________________________________________\n",
            "dense_2 (Dense)              (None, 32)                544       \n",
            "_________________________________________________________________\n",
            "dense_3 (Dense)              (None, 2)                 66        \n",
            "=================================================================\n",
            "Total params: 642\n",
            "Trainable params: 642\n",
            "Non-trainable params: 0\n",
            "_________________________________________________________________\n"
          ],
          "name": "stdout"
        }
      ]
    },
    {
      "cell_type": "markdown",
      "metadata": {
        "id": "trfdULgbdbwv",
        "colab_type": "text"
      },
      "source": [
        "# **3) Training a model in Keras**"
      ]
    },
    {
      "cell_type": "markdown",
      "metadata": {
        "id": "yWPDNiSod3pg",
        "colab_type": "text"
      },
      "source": [
        "Calling Keras '*compile*' method, where the following parameters are defined:\n",
        "\n",
        "*   **Optimizer**: optimization function to be used (SGD, Adam, etc);\n",
        "*   **Loss**: loss function definition (MSE, MAE, etc);\n",
        "*   **Metrics**: metrics to be used to measure the performance of the model.\n",
        "\n"
      ]
    },
    {
      "cell_type": "code",
      "metadata": {
        "id": "J9RNTrnpdhpa",
        "colab_type": "code",
        "colab": {}
      },
      "source": [
        "model.compile(Adam(lr=.001),\n",
        "              loss = 'sparse_categorical_crossentropy',\n",
        "              metrics = ['accuracy'])"
      ],
      "execution_count": null,
      "outputs": []
    },
    {
      "cell_type": "markdown",
      "metadata": {
        "id": "hyjwGc_JfLsU",
        "colab_type": "text"
      },
      "source": [
        "Training the model: '*fit*' method. Arguments:\n",
        "\n",
        "*   **Training samples**;\n",
        "*  **Training labels**;\n",
        "*   **Batch size**;\n",
        "*   **Epochs**: how many runs over all traning data;\n",
        "*   **Shuffle**: suffles data order for each epoch (True by default);\n",
        "*   **Verbose**: prints the output.\n",
        "\n"
      ]
    },
    {
      "cell_type": "code",
      "metadata": {
        "id": "UWM0X4gyeFYy",
        "colab_type": "code",
        "colab": {
          "base_uri": "https://localhost:8080/",
          "height": 706
        },
        "outputId": "fc57b753-a162-4329-ba04-1dc5dda2e5e2"
      },
      "source": [
        "model.fit(scaled_train_samples,\n",
        "          train_labels,\n",
        "          batch_size = 10,\n",
        "          epochs = 20,\n",
        "          shuffle = True,\n",
        "          verbose = 2)"
      ],
      "execution_count": null,
      "outputs": [
        {
          "output_type": "stream",
          "text": [
            "Epoch 1/20\n",
            " - 0s - loss: 0.5024 - accuracy: 0.7486\n",
            "Epoch 2/20\n",
            " - 0s - loss: 0.1683 - accuracy: 0.9695\n",
            "Epoch 3/20\n",
            " - 0s - loss: 0.0877 - accuracy: 0.9862\n",
            "Epoch 4/20\n",
            " - 0s - loss: 0.0623 - accuracy: 0.9929\n",
            "Epoch 5/20\n",
            " - 0s - loss: 0.0502 - accuracy: 0.9933\n",
            "Epoch 6/20\n",
            " - 0s - loss: 0.0426 - accuracy: 0.9929\n",
            "Epoch 7/20\n",
            " - 0s - loss: 0.0373 - accuracy: 0.9948\n",
            "Epoch 8/20\n",
            " - 0s - loss: 0.0339 - accuracy: 0.9962\n",
            "Epoch 9/20\n",
            " - 0s - loss: 0.0305 - accuracy: 0.9952\n",
            "Epoch 10/20\n",
            " - 0s - loss: 0.0290 - accuracy: 0.9952\n",
            "Epoch 11/20\n",
            " - 0s - loss: 0.0278 - accuracy: 0.9924\n",
            "Epoch 12/20\n",
            " - 0s - loss: 0.0258 - accuracy: 0.9933\n",
            "Epoch 13/20\n",
            " - 0s - loss: 0.0223 - accuracy: 0.9948\n",
            "Epoch 14/20\n",
            " - 0s - loss: 0.0225 - accuracy: 0.9962\n",
            "Epoch 15/20\n",
            " - 0s - loss: 0.0232 - accuracy: 0.9938\n",
            "Epoch 16/20\n",
            " - 0s - loss: 0.0220 - accuracy: 0.9933\n",
            "Epoch 17/20\n",
            " - 0s - loss: 0.0200 - accuracy: 0.9943\n",
            "Epoch 18/20\n",
            " - 0s - loss: 0.0195 - accuracy: 0.9967\n",
            "Epoch 19/20\n",
            " - 0s - loss: 0.0183 - accuracy: 0.9976\n",
            "Epoch 20/20\n",
            " - 0s - loss: 0.0164 - accuracy: 0.9981\n"
          ],
          "name": "stdout"
        },
        {
          "output_type": "execute_result",
          "data": {
            "text/plain": [
              "<keras.callbacks.callbacks.History at 0x7f3f99c80c88>"
            ]
          },
          "metadata": {
            "tags": []
          },
          "execution_count": 10
        }
      ]
    }
  ]
}